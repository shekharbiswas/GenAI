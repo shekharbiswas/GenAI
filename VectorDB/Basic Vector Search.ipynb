{
 "cells": [
  {
   "cell_type": "markdown",
   "id": "24cbe1ac",
   "metadata": {},
   "source": [
    "# Basic Vector Search from Scratch\n",
    "\n",
    "For this exercise we will implement basic vector search\n",
    "from scratch with just numpy.<br/>\n",
    "This will give us a feel\n",
    "for what's happening under the hood in vector databases."
   ]
  },
  {
   "cell_type": "code",
   "execution_count": 1,
   "id": "25b3a7a8-c5d0-4366-8c9c-657cb00124d2",
   "metadata": {},
   "outputs": [],
   "source": [
    "# !pip install numpy pytest [This is preinstalled]"
   ]
  },
  {
   "cell_type": "markdown",
   "id": "68a86f4f",
   "metadata": {},
   "source": [
    "## Euclidean distance\n",
    "\n",
    "There are many ways to measure the distance between two vectors.\n",
    "Let's write a function that computes the `Euclidean distance` \n",
    "between vectors. \n",
    "\n",
    "This function should take as input two vectors and return\n",
    "the euclidean distance between them.\n",
    "\n",
    "For more details you can read this [kaggle page](https://www.kaggle.com/code/paulrohan2020/euclidean-distance-and-normalizing-a-vector)\n"
   ]
  },
  {
   "cell_type": "code",
   "execution_count": 1,
   "id": "88be0502",
   "metadata": {},
   "outputs": [
    {
     "name": "stderr",
     "output_type": "stream",
     "text": [
      "c:\\Users\\SHEKHAR\\anaconda3\\lib\\site-packages\\numpy\\_distributor_init.py:30: UserWarning: loaded more than 1 DLL from .libs:\n",
      "c:\\Users\\SHEKHAR\\anaconda3\\lib\\site-packages\\numpy\\.libs\\libopenblas.FB5AE2TYXYH2IJRDKGDGQ3XBKLKTF43H.gfortran-win_amd64.dll\n",
      "c:\\Users\\SHEKHAR\\anaconda3\\lib\\site-packages\\numpy\\.libs\\libopenblas64__v0.3.21-gcc_10_3_0.dll\n",
      "  warnings.warn(\"loaded more than 1 DLL from .libs:\"\n"
     ]
    }
   ],
   "source": [
    "import numpy as np"
   ]
  },
  {
   "cell_type": "code",
   "execution_count": 10,
   "id": "c731f8e8",
   "metadata": {},
   "outputs": [],
   "source": [
    "def euclidean_distance(v1: np.ndarray, v2: np.ndarray) -> float:\n",
    "    \"\"\"\n",
    "    Compute the Euclidean distance between two vectors.\n",
    "\n",
    "    Parameters\n",
    "    ----------\n",
    "    v1 : np.ndarray\n",
    "        First vector.\n",
    "    v2 : np.ndarray\n",
    "        Second vector.\n",
    "\n",
    "    Returns\n",
    "    -------\n",
    "    float\n",
    "        Euclidean distance between `v1` and `v2`.\n",
    "    \"\"\"\n",
    "\n",
    "    dist = v1 -v2\n",
    "    return np.linalg.norm(dist, axis = len(dist.shape) - 1)\n",
    "    "
   ]
  },
  {
   "cell_type": "code",
   "execution_count": 11,
   "id": "64c9a8ff",
   "metadata": {},
   "outputs": [],
   "source": [
    "import pytest"
   ]
  },
  {
   "cell_type": "code",
   "execution_count": 19,
   "id": "84d02490",
   "metadata": {},
   "outputs": [],
   "source": [
    "v1 = np.array([1,2,3])\n",
    "v2 = np.array([4,5,6])\n",
    "\n",
    "dist = np.sqrt(np.sum((v1-v2)**2))\n",
    "\n",
    "assert euclidean_distance(v1,v2) == pytest.approx(dist)"
   ]
  },
  {
   "cell_type": "markdown",
   "id": "cc6760a2",
   "metadata": {},
   "source": [
    "## KNN search\n",
    "\n",
    "Using the distance function you just wrote, write a function that \n",
    "finds the k-nearest neighbors of a query vector.\n",
    "\n",
    "This function should take as input a query vector, a 2d array of database vectors,\n",
    "and an integer k the number of nearest neighbors to return. And it should return \n",
    "the vectors that are the k-nearest neighbors of the query vector.\n"
   ]
  },
  {
   "cell_type": "code",
   "execution_count": null,
   "id": "68124b99",
   "metadata": {},
   "outputs": [],
   "source": [
    "def find_nearest_neighbors(query: np.ndarray,\n",
    "                           vectors: np.ndarray,\n",
    "                           k: int = 1) -> np.ndarray:\n",
    "    \"\"\"\n",
    "    Find k-nearest neighbors of a query vector.\n",
    "\n",
    "    Parameters\n",
    "    ----------\n",
    "    query : np.ndarray\n",
    "        Query vector.\n",
    "    vectors : np.ndarray\n",
    "        Vectors to search.\n",
    "    k : int, optional\n",
    "        Number of nearest neighbors to return, by default 1.\n",
    "\n",
    "    Returns\n",
    "    -------\n",
    "    np.ndarray\n",
    "        The `k` nearest neighbors of `query` in `vectors`.\n",
    "    \"\"\"\n",
    "    pass"
   ]
  },
  {
   "cell_type": "markdown",
   "id": "5eabd7ba",
   "metadata": {},
   "source": [
    "## Other distance metrics\n",
    "\n",
    "For this problem we'll write a new distance function and modify \n",
    "our nearest neighbors function to accept a distance metric.\n"
   ]
  },
  {
   "cell_type": "markdown",
   "id": "d138be2c",
   "metadata": {},
   "source": [
    "Write a function that computes the [cosine distance](ttps://en.wikipedia.org/wiki/Cosine_similarity) between vectors."
   ]
  },
  {
   "cell_type": "code",
   "execution_count": null,
   "id": "b91848ed",
   "metadata": {},
   "outputs": [],
   "source": [
    "from typing import Union\n",
    "\n",
    "def cosine_distance(v1: np.ndarray, v2: np.ndarray) -> Union[float, np.ndarray]:\n",
    "    \"\"\"\n",
    "    Compute the cosine distance between two vectors.\n",
    "\n",
    "    Parameters\n",
    "    ----------\n",
    "    v1 : np.ndarray\n",
    "        First vector.\n",
    "    v2 : np.ndarray\n",
    "        Second vector.\n",
    "\n",
    "    Returns\n",
    "    -------\n",
    "    float\n",
    "        Cosine distance between `v1` and `v2`.\n",
    "    \"\"\"\n",
    "    pass"
   ]
  },
  {
   "cell_type": "markdown",
   "id": "c1d1c4d4",
   "metadata": {},
   "source": [
    "**HINT** Please make sure you understand the difference between cosine similarity and cosine distance"
   ]
  },
  {
   "cell_type": "markdown",
   "id": "e2c176d9",
   "metadata": {},
   "source": [
    "Now, rewrite the `find_nearest_neighbors` function to accept a distance metric so you can use either Euclidean or Cosine distance"
   ]
  },
  {
   "cell_type": "code",
   "execution_count": null,
   "id": "f54ab2f2",
   "metadata": {},
   "outputs": [],
   "source": [
    "def find_nearest_neighbors(query: np.ndarray,\n",
    "                           vectors: np.ndarray,\n",
    "                           k: int = 1,\n",
    "                           distance_metric=\"euclidean\") -> np.ndarray:\n",
    "    \"\"\"\n",
    "    Find k-nearest neighbors of a query vector with a configurable\n",
    "    distance metric.\n",
    "\n",
    "    Parameters\n",
    "    ----------\n",
    "    query : np.ndarray\n",
    "        Query vector.\n",
    "    vectors : np.ndarray\n",
    "        Vectors to search.\n",
    "    k : int, optional\n",
    "        Number of nearest neighbors to return, by default 1.\n",
    "    distance_metric : str, optional\n",
    "        Distance metric to use, by default \"euclidean\".\n",
    "\n",
    "    Returns\n",
    "    -------\n",
    "    np.ndarray\n",
    "        The `k` nearest neighbors of `query` in `vectors`.\n",
    "    \"\"\"\n",
    "    pass"
   ]
  },
  {
   "cell_type": "markdown",
   "id": "21548bed",
   "metadata": {},
   "source": [
    "## Exploration\n",
    "\n",
    "Now that we have a nearest neighbors function that accepts a distance metric, <br/>\n",
    "let's explore the differences between Euclidean distance and cosine distance.\n",
    "\n",
    "Would you expect same or different answers?"
   ]
  },
  {
   "cell_type": "code",
   "execution_count": null,
   "id": "1133d29d",
   "metadata": {},
   "outputs": [],
   "source": [
    "# You might find this function useful\n",
    "\n",
    "def generate_vectors(num_vectors: int, num_dim: int,\n",
    "                     normalize: bool = True) -> np.ndarray:\n",
    "    \"\"\"\n",
    "    Generate random embedding vectors.\n",
    "\n",
    "    Parameters\n",
    "    ----------\n",
    "    num_vectors : int\n",
    "        Number of vectors to generate.\n",
    "    num_dim : int\n",
    "        Dimensionality of the vectors.\n",
    "    normalize : bool, optional\n",
    "        Whether to normalize the vectors, by default True.\n",
    "\n",
    "    Returns\n",
    "    -------\n",
    "    np.ndarray\n",
    "        Randomly generated `num_vectors` vectors with `num_dim` dimensions.\n",
    "    \"\"\"\n",
    "    vectors = np.random.rand(num_vectors, num_dim)\n",
    "    if normalize:\n",
    "        vectors /= np.linalg.norm(vectors, axis=1, keepdims=True)\n",
    "    return vectors"
   ]
  }
 ],
 "metadata": {
  "kernelspec": {
   "display_name": "Python 3 (ipykernel)",
   "language": "python",
   "name": "python3"
  },
  "language_info": {
   "codemirror_mode": {
    "name": "ipython",
    "version": 3
   },
   "file_extension": ".py",
   "mimetype": "text/x-python",
   "name": "python",
   "nbconvert_exporter": "python",
   "pygments_lexer": "ipython3",
   "version": "3.9.17"
  }
 },
 "nbformat": 4,
 "nbformat_minor": 5
}
