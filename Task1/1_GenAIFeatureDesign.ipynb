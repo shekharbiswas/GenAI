{
 "cells": [
  {
   "cell_type": "markdown",
   "metadata": {},
   "source": [
    "In this exercise, you are tasked with creating an application that aggregates and summarizes restaurant reviews. Users will provide the name of a restaurant and the type of cuisine, and the application will generate a summary of the most prevalent sentiments found in online reviews for that specific restaurant and cuisine type.\n",
    "\n",
    "**Challenge** \n",
    "\n",
    "Develop a prompt template that guides the LLM to generate a concise, sentiment-focused summary based on user inputs: the restaurant name and the type of cuisine."
   ]
  },
  {
   "cell_type": "markdown",
   "metadata": {},
   "source": [
    "**Understand the User Inputs**\n",
    "\n",
    "Identify the essential user inputs for this task. In this scenario, you need:\n",
    "- Restaurant Name\n",
    "- Cuisine Type\n",
    "- Can you think of others to make your prompt more specific or flexible? "
   ]
  },
  {
   "cell_type": "code",
   "execution_count": 1,
   "metadata": {},
   "outputs": [],
   "source": [
    "# Create variables to store the user inputs\n",
    "restaurant_name = 'Chupenga'\n",
    "cuisine_type = 'Mexican'"
   ]
  },
  {
   "cell_type": "markdown",
   "metadata": {},
   "source": [
    "**Craft the Prompt**\n",
    "\n",
    "Compose a clear, concise instruction that will direct the LLM to generate a sentiment-focused summary for the specified restaurant and cuisine.\n",
    " - The prompt should be specific enough to guide the LLM towards the desired output \n",
    " - But also flexible enough to handle a range of restaurants and cuisines."
   ]
  },
  {
   "cell_type": "code",
   "execution_count": 3,
   "metadata": {},
   "outputs": [],
   "source": [
    "prompt = \"Provide a summary of customer sentiments for Chupenga, focusing on their new Mexican dishes. \\\n",
    "    Highlight key sentiments and mention any standout dishes or services. \""
   ]
  },
  {
   "cell_type": "markdown",
   "metadata": {},
   "source": [
    "**Create the Prompt Template**\n",
    "\n",
    "Design a template that integrates the user inputs into the LLM prompt.\n",
    "Use brackets {} to denote where the user inputs should be placed. This makes the template dynamic, allowing for different restaurant names and cuisine types to be inserted into the prompt."
   ]
  },
  {
   "cell_type": "code",
   "execution_count": 4,
   "metadata": {},
   "outputs": [
    {
     "name": "stdout",
     "output_type": "stream",
     "text": [
      "Provide a summary of customer sentiments for Chupenga, focusing on their Mexican dishes. Highlight key sentiments and mention any standout dishes or services. \n"
     ]
    }
   ],
   "source": [
    "prompt_template = f\"Provide a summary of customer sentiments for {restaurant_name}, focusing on their {cuisine_type} dishes. Highlight key sentiments and mention any standout dishes or services. \"\n",
    "print(prompt_template)"
   ]
  },
  {
   "cell_type": "markdown",
   "metadata": {},
   "source": [
    "Now, call the OpenAI GPT-3.5 API with your prompt and see how the model responds"
   ]
  },
  {
   "cell_type": "code",
   "execution_count": 18,
   "metadata": {},
   "outputs": [],
   "source": [
    "#Call the OpenAI API with your prompt and print the response\n",
    "\n",
    "# Importing the necessary library for OpenAI API\n",
    "from  openai import OpenAI\n",
    "import getpass, os\n",
    "os.environ[\"OPENAI_API_KEY\"] = getpass.getpass()\n",
    "\n",
    "client = OpenAI(api_key=os.environ[\"OPENAI_API_KEY\"])"
   ]
  },
  {
   "cell_type": "code",
   "execution_count": 19,
   "metadata": {},
   "outputs": [
    {
     "name": "stdout",
     "output_type": "stream",
     "text": [
      "Generated review:\n",
      "Chupenga, a popular restaurant known for its Mexican cuisine, has garnered mixed reviews from customers. While some patrons have praised the authentic flavors and wide variety of options, others have expressed disappointment with certain aspects of their dining experience.\n",
      "\n",
      "Several customers have raved about the standout dishes offered at Chupenga. The tacos al pastor are often mentioned as a highlight, with many praising the perfectly seasoned and tender pork. The guacamole is also frequently praised for its creamy texture and robust flavor, making it a must-try for avocado lovers. In addition, the margaritas and other cocktails have been appreciated for their refreshing taste and quality ingredients.\n",
      "\n",
      "On the other hand, a number of guests have voiced concerns about the portion sizes and pricing of the dishes. Some have found the servings to be smaller than expected, while others have felt that the prices did not match the overall quality. Additionally, a few customers have remarked on slow service during peak hours, which resulted in longer wait times for their meals.\n",
      "\n",
      "Despite the mixed sentiments, Chupenga continues to attract customers who enjoy its Mexican cuisine and vibrant atmosphere. While it may not satisfy everyone's expectations, those seeking a flavorful taco or a refreshing margarita might find Chupenga to be a worthy dining destination.\n"
     ]
    }
   ],
   "source": [
    "# Function to call the OpenAI GPT-3.5 API\n",
    "def generate_restaurant_review(prompt_template):\n",
    "    try:\n",
    "        # Calling the OpenAI API with a system message and prompt in the user message content\n",
    "        # openai.ChatCompletion.create for openai < 1.0\n",
    "        # openai.chat.completions.create for openai > 1.0\n",
    "        response = client.chat.completions.create(\n",
    "          model=\"gpt-3.5-turbo\",\n",
    "          messages=[\n",
    "          {\n",
    "            \"role\": \"system\",\n",
    "            \"content\": \"You are a restaurant critic. You are writing about reviews of restaurants. \"\n",
    "          },\n",
    "          {\n",
    "            \"role\": \"user\",\n",
    "            \"content\": prompt_template\n",
    "          }\n",
    "          ],\n",
    "        temperature=1,\n",
    "        max_tokens=256,\n",
    "        top_p=1,\n",
    "        frequency_penalty=0,\n",
    "        presence_penalty=0\n",
    "        )\n",
    "        # The response is a JSON object containing more information than the generated review. We want to return only the message content\n",
    "        return response.choices[0].message.content\n",
    "    except Exception as e:\n",
    "        return f\"An error occurred: {e}\"\n",
    "\n",
    "# Generating the response from the model\n",
    "review_summary = generate_restaurant_review(prompt_template)\n",
    "\n",
    "# Printing the output. \n",
    "print(\"Generated review:\")\n",
    "print(review_summary)"
   ]
  },
  {
   "cell_type": "code",
   "execution_count": null,
   "metadata": {},
   "outputs": [],
   "source": []
  }
 ],
 "metadata": {
  "kernelspec": {
   "display_name": "Python 3 (ipykernel)",
   "language": "python",
   "name": "python3"
  },
  "language_info": {
   "codemirror_mode": {
    "name": "ipython",
    "version": 3
   },
   "file_extension": ".py",
   "mimetype": "text/x-python",
   "name": "python",
   "nbconvert_exporter": "python",
   "pygments_lexer": "ipython3",
   "version": "3.9.17"
  }
 },
 "nbformat": 4,
 "nbformat_minor": 2
}
